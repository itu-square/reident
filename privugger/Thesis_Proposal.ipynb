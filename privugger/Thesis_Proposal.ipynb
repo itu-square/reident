{
 "cells": [
  {
   "cell_type": "markdown",
   "id": "continuous-recording",
   "metadata": {},
   "source": [
    "# Finding best leakage using Bayesian optimization\n",
    "First lets get some basic analogy out of the way:\n",
    "\n",
    "In general we can shape the goal of my thesis using the following variables:\n",
    "\n",
    "$$ Alice = X \\sim \\rm I\\!D^1 $$\n",
    "\n",
    "$$ Dataset = Y \\sim \\rm I\\!D^k$$ \n",
    "such that\n",
    "$$X \\subset Y $$\n",
    "$$1 < k \\le \\infty$$\n",
    "\n",
    "Where $\\rm I\\!D$ is any distribution\n",
    "\n",
    "By any given privacy preserving mechanism:\n",
    "\n",
    "$$f: \\rm I\\!R^d -> \\rm I\\!R^n$$ \n",
    "\n",
    "$$Z = f(Y)$$\n",
    "\n",
    "With all this annotation out of the way we can start to look at the goal of my thesis:\n",
    "\n",
    "$$\\underset{Y}{\\operatorname{argmax}} q(X,Z)$$\n",
    "\n",
    "where $q$ is any metric that measures the leakage in a single scalar value\n",
    "\n",
    "\n",
    "### For this example:\n",
    "\n",
    "I will:\n",
    "- Maximize the leakage using BayesianOptimization `GPyOpt`\n",
    "    - https://gpyopt.readthedocs.io/en/latest/\n",
    "- Use Mutual Information as $q$\n",
    "\n",
    "\n",
    "### Imports\n"
   ]
  },
  {
   "cell_type": "code",
   "execution_count": 34,
   "id": "upset-stylus",
   "metadata": {},
   "outputs": [],
   "source": [
    "import matplotlib.pyplot as plt\n",
    "from sklearn.feature_selection import mutual_info_regression\n",
    "import pymc3 as pm\n",
    "import numpy as np\n",
    "from GPyOpt.methods import BayesianOptimization\n",
    "import arviz as az\n",
    "import theano\n",
    "import theano.tensor as tt\n",
    "import pandas as pd\n",
    "import opendp.smartnoise.core as sn"
   ]
  },
  {
   "cell_type": "markdown",
   "id": "comfortable-ballet",
   "metadata": {},
   "source": [
    "### Defining f using openDP"
   ]
  },
  {
   "cell_type": "code",
   "execution_count": 35,
   "id": "advanced-treasure",
   "metadata": {},
   "outputs": [],
   "source": [
    "@theano.compile.ops.as_op(itypes=[tt.lvector,tt.lvector,tt.lvector,\n",
    "                                  tt.lvector,tt.dvector,tt.lvector,\n",
    "                                  tt.lscalar],\n",
    "                          otypes=[tt.dscalar])\n",
    "def f(age,sex,educ,race,income,married,N):\n",
    "    temp_file='temp.csv'    \n",
    "    var_names = [\"age\", \"sex\", \"educ\", \"race\", \"income\", \"married\"]\n",
    "    data = {\n",
    "        \"age\":     age,\n",
    "        \"sex\":     sex,\n",
    "        \"educ\":    educ,\n",
    "        \"race\":    race,\n",
    "        \"income\":  income,\n",
    "        \"married\": married\n",
    "    }\n",
    "    df = pd.DataFrame(data,columns=var_names)\n",
    "    df.to_csv(temp_file)\n",
    "    with sn.Analysis() as analysis:\n",
    "        # load data\n",
    "        data = sn.Dataset(path=temp_file,column_names=var_names)\n",
    "\n",
    "        # get mean of age\n",
    "        age_mean = sn.dp_mean(data = sn.to_float(data['income']),\n",
    "                              privacy_usage = {'epsilon': .1},\n",
    "                              data_lower = 0., # min income\n",
    "                              data_upper = 200., # max income                   \n",
    "                              data_rows = N\n",
    "                             )\n",
    "    analysis.release()\n",
    "    return np.float64(age_mean.value) "
   ]
  },
  {
   "cell_type": "markdown",
   "id": "expanded-maximum",
   "metadata": {},
   "source": [
    "### Defining q"
   ]
  },
  {
   "cell_type": "code",
   "execution_count": 47,
   "id": "recreational-contrast",
   "metadata": {},
   "outputs": [],
   "source": [
    "def q(X,Z):\n",
    "    print(X)\n",
    "    mutual_info = 0\n",
    "    for x in X:\n",
    "        mutual_info += mutual_info_regression(x.reshape(-1,1),Z)[0]\n",
    "    return mutual_info"
   ]
  },
  {
   "cell_type": "markdown",
   "id": "upset-chinese",
   "metadata": {},
   "source": [
    "### What is bayesian optimization doing\n",
    "It will search through each dimensions of our space of unknowns searching for the values which has the highest probability of being the maximum:\n",
    "\n",
    "Personally I like the explanation from within here:\n",
    "\n",
    "https://www.cse.wustl.edu/~garnett/cse515t/spring_2015/files/lecture_notes/12.pdf \n",
    "\n",
    "\n",
    "### Since we are optimizing real numbers, we need to have a way of converting real numbers into distributions:\n"
   ]
  },
  {
   "cell_type": "code",
   "execution_count": 137,
   "id": "appreciated-still",
   "metadata": {},
   "outputs": [],
   "source": [
    "def map_int_to_discrete_dist(name, info, shape):\n",
    "    ids, mu, std = info\n",
    "    if ids == 0:\n",
    "        f_a = lambda b: 2*mu-b\n",
    "        b = 1/3*(mu+2*np.sqrt(3)*np.sqrt(std))\n",
    "        a = f_a(b)\n",
    "        if a > b:\n",
    "            b,a = a,b\n",
    "        elif a == b:\n",
    "            b += 1\n",
    "        print(\"uniform\", a, b)\n",
    "        return pm.DiscreteUniform(name, int(a), int(b), shape=shape)\n",
    "    elif ids == 1:\n",
    "        mu = abs(mu)\n",
    "        print(\"posson\", mu)\n",
    "        return pm.Poisson(name, mu=mu, shape=shape)"
   ]
  },
  {
   "cell_type": "code",
   "execution_count": 138,
   "id": "integrated-samuel",
   "metadata": {},
   "outputs": [],
   "source": [
    "def map_int_to_cont_dist(name, info, shape):\n",
    "    ids, mu, std = info\n",
    "    if ids == 0:\n",
    "        ##Normal\n",
    "        return pm.Normal(name, mu, std, shape=shape)\n",
    "    elif ids == 1:\n",
    "        #Uniform\n",
    "        f_a = lambda b: 2*mu-b\n",
    "        b = 1/3*(mu+2*np.sqrt(3)*np.sqrt(std))\n",
    "        a = f_a(b)\n",
    "        if a > b:\n",
    "            b,a = a,b\n",
    "        elif a == b:\n",
    "            b += 1\n",
    "        print(\"uniform\", a,b)\n",
    "        return pm.Uniform(name, a, b, shape=shape)\n",
    "    elif ids == 2:\n",
    "        #Half Normal\n",
    "        print(\"halft\", std)\n",
    "        return pm.HalfNormal(name, std, shape=shape)\n",
    "    elif ids == 3:\n",
    "        #Gamma\n",
    "        print(\"gamma\", mu, std)\n",
    "        return pm.Gamma(name, mu=mu, sigma=std, shape=shape)"
   ]
  },
  {
   "cell_type": "markdown",
   "id": "opposed-canon",
   "metadata": {},
   "source": [
    "### Now we can construct the method which we are trying to find the maximum of\n",
    "\n",
    "It will take a vector as input X"
   ]
  },
  {
   "cell_type": "code",
   "execution_count": 139,
   "id": "closing-alfred",
   "metadata": {},
   "outputs": [],
   "source": [
    "def analyse(X):\n",
    "    print(X)\n",
    "    ids_cont = X[:,0]\n",
    "    ids_disc = X[:,1:6][0]\n",
    "    \n",
    "    mus_cont = X[:,6]\n",
    "    mus_disc = X[:,7:12][0]\n",
    "    \n",
    "    std_cont = X[:,12]\n",
    "    std_disc = X[:,13:18][0]\n",
    "    print(f\"ids: {ids_cont}, ids_disc: {ids_disc}, mus_cont: {mus_cont}, mus_disc: {mus_disc}, std_cont {std_cont}, std_dist {std_disc}\")\n",
    "    age_information = [ids_disc[0], mus_disc[0], std_disc[0]]\n",
    "    sex_information = [ids_disc[1], mus_disc[1], std_disc[1]]\n",
    "    educ_information = [ids_disc[2], mus_disc[2], std_disc[2]]\n",
    "    race_information = [ids_disc[3], mus_disc[3], std_disc[3]]\n",
    "    income_information = [ids_cont[0], mus_cont[0], std_cont[0]]\n",
    "    married_information = [ids_disc[4], mus_disc[4], std_disc[4]]\n",
    "    \n",
    "    with pm.Model() as model:\n",
    "        N = 10\n",
    "        N_rv = pm.Constant(\"N\", N)\n",
    "        \n",
    "        age_dist = map_int_to_discrete_dist(\"age\", age_information, N)\n",
    "        sex_dist = map_int_to_discrete_dist(\"sex\", sex_information, N)\n",
    "        educ_dist = map_int_to_discrete_dist(\"educ\", educ_information, N)\n",
    "        race_dist = map_int_to_discrete_dist(\"race\", race_information, N)\n",
    "        income_dist = map_int_to_cont_dist(\"income\", income_information, N)\n",
    "        married_dist = map_int_to_discrete_dist(\"married\", married_information, N)\n",
    "        \n",
    "        out = pm.Deterministic(\"out\", f(age_dist, sex_dist, educ_dist, race_dist, income_dist, married_dist, N_rv))\n",
    "        trace = pm.sample(1000, return_inferencedata=False, cores=1)\n",
    "        \n",
    "        names = [\"age\", \"sex\", \"educ\", \"race\", \"income\", \"married\"]\n",
    "        alice_metric = np.asarray([trace[n][:,0] for n in names])\n",
    "        \n",
    "        I = q(alice_metric, trace[\"out\"])\n",
    "        return -I"
   ]
  },
  {
   "cell_type": "code",
   "execution_count": 140,
   "id": "difficult-joshua",
   "metadata": {},
   "outputs": [
    {
     "name": "stdout",
     "output_type": "stream",
     "text": [
      "[[ 2.00000000e+00  1.00000000e+00  0.00000000e+00  0.00000000e+00\n",
      "   1.00000000e+00  0.00000000e+00 -3.45003734e+02 -4.22000000e+02\n",
      "   6.74000000e+02 -4.14000000e+02  9.20000000e+02 -9.32000000e+02\n",
      "   9.41867445e+03  6.79305421e+03  2.95968512e+03  3.76994304e+03\n",
      "   2.82545217e+03  4.05609934e+03]]\n",
      "ids: [2.], ids_disc: [1. 0. 0. 1. 0.], mus_cont: [-345.00373399], mus_disc: [-422.  674. -414.  920. -932.], std_cont [9418.67445071], std_dist [6793.05421167 2959.68511657 3769.9430428  2825.45216867 4056.09934074]\n",
      "posson 422.0\n",
      "uniform 287.4858263402559 1060.514173659744\n",
      "uniform -760.8984536060632 -67.10154639393687\n",
      "posson 920.0\n",
      "halft 9418.674450707105\n",
      "uniform -1626.8733391418978 -237.12666085810216\n"
     ]
    },
    {
     "name": "stderr",
     "output_type": "stream",
     "text": [
      "Sequential sampling (2 chains in 1 job)\n",
      "CompoundStep\n",
      ">CompoundStep\n",
      ">>Metropolis: [married]\n",
      ">>Metropolis: [race]\n",
      ">>Metropolis: [educ]\n",
      ">>Metropolis: [sex]\n",
      ">>Metropolis: [age]\n",
      ">>Metropolis: [N]\n",
      ">NUTS: [income]\n"
     ]
    },
    {
     "data": {
      "text/html": [
       "\n",
       "    <div>\n",
       "        <style>\n",
       "            /* Turns off some styling */\n",
       "            progress {\n",
       "                /* gets rid of default border in Firefox and Opera. */\n",
       "                border: none;\n",
       "                /* Needs to be in here for Safari polyfill so background images work as expected. */\n",
       "                background-size: auto;\n",
       "            }\n",
       "            .progress-bar-interrupted, .progress-bar-interrupted::-webkit-progress-bar {\n",
       "                background: #F44336;\n",
       "            }\n",
       "        </style>\n",
       "      <progress value='2000' class='' max='2000' style='width:300px; height:20px; vertical-align: middle;'></progress>\n",
       "      100.00% [2000/2000 00:13<00:00 Sampling chain 0, 0 divergences]\n",
       "    </div>\n",
       "    "
      ],
      "text/plain": [
       "<IPython.core.display.HTML object>"
      ]
     },
     "metadata": {},
     "output_type": "display_data"
    },
    {
     "data": {
      "text/html": [
       "\n",
       "    <div>\n",
       "        <style>\n",
       "            /* Turns off some styling */\n",
       "            progress {\n",
       "                /* gets rid of default border in Firefox and Opera. */\n",
       "                border: none;\n",
       "                /* Needs to be in here for Safari polyfill so background images work as expected. */\n",
       "                background-size: auto;\n",
       "            }\n",
       "            .progress-bar-interrupted, .progress-bar-interrupted::-webkit-progress-bar {\n",
       "                background: #F44336;\n",
       "            }\n",
       "        </style>\n",
       "      <progress value='2000' class='' max='2000' style='width:300px; height:20px; vertical-align: middle;'></progress>\n",
       "      100.00% [2000/2000 00:13<00:00 Sampling chain 1, 0 divergences]\n",
       "    </div>\n",
       "    "
      ],
      "text/plain": [
       "<IPython.core.display.HTML object>"
      ]
     },
     "metadata": {},
     "output_type": "display_data"
    },
    {
     "name": "stderr",
     "output_type": "stream",
     "text": [
      "Sampling 2 chains for 1_000 tune and 1_000 draw iterations (2_000 + 2_000 draws total) took 27 seconds.\n",
      "There was 1 divergence after tuning. Increase `target_accept` or reparameterize.\n",
      "The estimated number of effective samples is smaller than 200 for some parameters.\n"
     ]
    },
    {
     "name": "stdout",
     "output_type": "stream",
     "text": [
      "[[  432.           433.           433.         ...   430.\n",
      "    430.           431.        ]\n",
      " [  403.           403.           459.         ...   694.\n",
      "    694.           694.        ]\n",
      " [ -394.          -460.          -226.         ...  -412.\n",
      "   -412.          -411.        ]\n",
      " [  941.           941.           941.         ...   841.\n",
      "    842.           841.        ]\n",
      " [ 1323.70130016  1769.82571602  3482.93450808 ...  4436.04685833\n",
      "   2020.94247877  1199.20941529]\n",
      " [-1538.         -1538.         -1538.         ...  -860.\n",
      "   -860.          -860.        ]]\n",
      "[[ 1.00000000e+00  1.00000000e+00  0.00000000e+00  1.00000000e+00\n",
      "   1.00000000e+00  0.00000000e+00  8.83650849e+02  4.82000000e+02\n",
      "  -6.33000000e+02  9.39000000e+02 -8.23000000e+02 -2.70000000e+01\n",
      "   4.83377216e+03  3.83371087e+03  1.94038892e+03  5.09317078e+03\n",
      "   4.70272687e+03  7.51862857e+03]]\n",
      "ids: [1.], ids_disc: [1. 0. 1. 1. 0.], mus_cont: [883.65084947], mus_disc: [ 482. -633.  939. -823.  -27.], std_cont [4833.77215757], std_dist [3833.71086556 1940.38891802 5093.1707825  4702.72686763 7518.62856679]\n",
      "posson 482.0\n",
      "uniform -1105.8643807003768 -160.13561929962327\n",
      "posson 939.0\n",
      "posson 823.0\n",
      "uniform 374.8312245025471 1392.4704744356482\n",
      "uniform -145.1241134245373 91.12411342453733\n"
     ]
    },
    {
     "name": "stderr",
     "output_type": "stream",
     "text": [
      "Sequential sampling (2 chains in 1 job)\n",
      "CompoundStep\n",
      ">CompoundStep\n",
      ">>Metropolis: [married]\n",
      ">>Metropolis: [race]\n",
      ">>Metropolis: [educ]\n",
      ">>Metropolis: [sex]\n",
      ">>Metropolis: [age]\n",
      ">>Metropolis: [N]\n",
      ">NUTS: [income]\n"
     ]
    },
    {
     "data": {
      "text/html": [
       "\n",
       "    <div>\n",
       "        <style>\n",
       "            /* Turns off some styling */\n",
       "            progress {\n",
       "                /* gets rid of default border in Firefox and Opera. */\n",
       "                border: none;\n",
       "                /* Needs to be in here for Safari polyfill so background images work as expected. */\n",
       "                background-size: auto;\n",
       "            }\n",
       "            .progress-bar-interrupted, .progress-bar-interrupted::-webkit-progress-bar {\n",
       "                background: #F44336;\n",
       "            }\n",
       "        </style>\n",
       "      <progress value='2000' class='' max='2000' style='width:300px; height:20px; vertical-align: middle;'></progress>\n",
       "      100.00% [2000/2000 00:13<00:00 Sampling chain 0, 0 divergences]\n",
       "    </div>\n",
       "    "
      ],
      "text/plain": [
       "<IPython.core.display.HTML object>"
      ]
     },
     "metadata": {},
     "output_type": "display_data"
    },
    {
     "data": {
      "text/html": [
       "\n",
       "    <div>\n",
       "        <style>\n",
       "            /* Turns off some styling */\n",
       "            progress {\n",
       "                /* gets rid of default border in Firefox and Opera. */\n",
       "                border: none;\n",
       "                /* Needs to be in here for Safari polyfill so background images work as expected. */\n",
       "                background-size: auto;\n",
       "            }\n",
       "            .progress-bar-interrupted, .progress-bar-interrupted::-webkit-progress-bar {\n",
       "                background: #F44336;\n",
       "            }\n",
       "        </style>\n",
       "      <progress value='2000' class='' max='2000' style='width:300px; height:20px; vertical-align: middle;'></progress>\n",
       "      100.00% [2000/2000 00:12<00:00 Sampling chain 1, 0 divergences]\n",
       "    </div>\n",
       "    "
      ],
      "text/plain": [
       "<IPython.core.display.HTML object>"
      ]
     },
     "metadata": {},
     "output_type": "display_data"
    },
    {
     "name": "stderr",
     "output_type": "stream",
     "text": [
      "Sampling 2 chains for 1_000 tune and 1_000 draw iterations (2_000 + 2_000 draws total) took 26 seconds.\n",
      "The estimated number of effective samples is smaller than 200 for some parameters.\n"
     ]
    },
    {
     "name": "stdout",
     "output_type": "stream",
     "text": [
      "[[ 448.          448.          448.         ...  477.\n",
      "   477.          476.        ]\n",
      " [-882.         -882.         -882.         ... -636.\n",
      "  -635.         -636.        ]\n",
      " [ 897.          897.          905.         ...  891.\n",
      "   891.          892.        ]\n",
      " [ 840.          823.          823.         ...  832.\n",
      "   833.          833.        ]\n",
      " [ 793.10815728  692.5767936  1139.59905222 ...  407.36425434\n",
      "   389.02981335  477.65146852]\n",
      " [ -14.           11.           17.         ... -100.\n",
      "  -100.         -100.        ]]\n",
      "[[ 2.00000000e+00  1.00000000e+00  0.00000000e+00  0.00000000e+00\n",
      "   0.00000000e+00  1.00000000e+00  6.26720184e+02 -4.75000000e+02\n",
      "  -9.05000000e+02  3.74000000e+02 -3.49000000e+02  3.90000000e+02\n",
      "   8.10595401e+03  3.90535256e+03  7.18155798e+03  5.51109001e+03\n",
      "   4.22628699e+03  9.65027438e+02]]\n",
      "ids: [2.], ids_disc: [1. 0. 0. 0. 1.], mus_cont: [626.72018392], mus_disc: [-475. -905.  374. -349.  390.], std_cont [8105.95400701], std_dist [3905.35256063 7181.55797745 5511.09001029 4226.28699085  965.02743813]\n",
      "posson 475.0\n",
      "uniform -1606.1873605197786 -203.81263948022143\n",
      "uniform 210.38784266025118 537.6121573397488\n",
      "uniform -656.7336322449927 -41.26636775500734\n",
      "halft 8105.954007009702\n",
      "posson 390.0\n"
     ]
    },
    {
     "name": "stderr",
     "output_type": "stream",
     "text": [
      "Sequential sampling (2 chains in 1 job)\n",
      "CompoundStep\n",
      ">CompoundStep\n",
      ">>Metropolis: [married]\n",
      ">>Metropolis: [race]\n",
      ">>Metropolis: [educ]\n",
      ">>Metropolis: [sex]\n",
      ">>Metropolis: [age]\n",
      ">>Metropolis: [N]\n",
      ">NUTS: [income]\n"
     ]
    },
    {
     "data": {
      "text/html": [
       "\n",
       "    <div>\n",
       "        <style>\n",
       "            /* Turns off some styling */\n",
       "            progress {\n",
       "                /* gets rid of default border in Firefox and Opera. */\n",
       "                border: none;\n",
       "                /* Needs to be in here for Safari polyfill so background images work as expected. */\n",
       "                background-size: auto;\n",
       "            }\n",
       "            .progress-bar-interrupted, .progress-bar-interrupted::-webkit-progress-bar {\n",
       "                background: #F44336;\n",
       "            }\n",
       "        </style>\n",
       "      <progress value='2000' class='' max='2000' style='width:300px; height:20px; vertical-align: middle;'></progress>\n",
       "      100.00% [2000/2000 00:13<00:00 Sampling chain 0, 0 divergences]\n",
       "    </div>\n",
       "    "
      ],
      "text/plain": [
       "<IPython.core.display.HTML object>"
      ]
     },
     "metadata": {},
     "output_type": "display_data"
    },
    {
     "data": {
      "text/html": [
       "\n",
       "    <div>\n",
       "        <style>\n",
       "            /* Turns off some styling */\n",
       "            progress {\n",
       "                /* gets rid of default border in Firefox and Opera. */\n",
       "                border: none;\n",
       "                /* Needs to be in here for Safari polyfill so background images work as expected. */\n",
       "                background-size: auto;\n",
       "            }\n",
       "            .progress-bar-interrupted, .progress-bar-interrupted::-webkit-progress-bar {\n",
       "                background: #F44336;\n",
       "            }\n",
       "        </style>\n",
       "      <progress value='2000' class='' max='2000' style='width:300px; height:20px; vertical-align: middle;'></progress>\n",
       "      100.00% [2000/2000 00:13<00:00 Sampling chain 1, 0 divergences]\n",
       "    </div>\n",
       "    "
      ],
      "text/plain": [
       "<IPython.core.display.HTML object>"
      ]
     },
     "metadata": {},
     "output_type": "display_data"
    },
    {
     "name": "stderr",
     "output_type": "stream",
     "text": [
      "Sampling 2 chains for 1_000 tune and 1_000 draw iterations (2_000 + 2_000 draws total) took 27 seconds.\n",
      "The estimated number of effective samples is smaller than 200 for some parameters.\n"
     ]
    },
    {
     "name": "stdout",
     "output_type": "stream",
     "text": [
      "[[  481.           481.           486.         ...   448.\n",
      "    448.           447.        ]\n",
      " [-1392.         -1392.         -1392.         ...  -906.\n",
      "   -907.          -908.        ]\n",
      " [  285.           285.           285.         ...   364.\n",
      "    363.           363.        ]\n",
      " [ -137.          -259.          -259.         ...  -462.\n",
      "   -464.          -465.        ]\n",
      " [   50.7230058     65.70743564    53.8321697  ...  5938.92407607\n",
      "   3717.27479839  7246.66163103]\n",
      " [  392.           392.           392.         ...   392.\n",
      "    392.           392.        ]]\n",
      "[[ 1.00000000e+00  0.00000000e+00  0.00000000e+00  0.00000000e+00\n",
      "   1.00000000e+00  0.00000000e+00  6.68710549e+02 -8.10000000e+01\n",
      "   9.29000000e+02  7.69000000e+02  5.47000000e+02  1.49000000e+02\n",
      "   8.31369057e+03  6.19439762e+03  3.91275114e+03  4.95090146e+03\n",
      "   7.31249404e+02  2.13354743e+03]]\n",
      "ids: [1.], ids_disc: [0. 0. 0. 1. 0.], mus_cont: [668.71054899], mus_disc: [-81. 929. 769. 547. 149.], std_cont [8313.69057037], std_dist [6194.39761642 3912.75114171 4950.90146015  731.24940415 2133.54742844]\n",
      "uniform -225.88012335977876 63.88012335977877\n",
      "uniform 381.8954803235102 1476.1045196764899\n",
      "uniform 337.5811145145472 1200.4188854854528\n",
      "posson 547.0\n",
      "uniform 328.1884666326161 1009.2326313397054\n",
      "uniform 103.0026761217376 194.99732387826242\n"
     ]
    },
    {
     "name": "stderr",
     "output_type": "stream",
     "text": [
      "Sequential sampling (2 chains in 1 job)\n",
      "CompoundStep\n",
      ">CompoundStep\n",
      ">>Metropolis: [married]\n",
      ">>Metropolis: [race]\n",
      ">>Metropolis: [educ]\n",
      ">>Metropolis: [sex]\n",
      ">>Metropolis: [age]\n",
      ">>Metropolis: [N]\n",
      ">NUTS: [income]\n"
     ]
    },
    {
     "data": {
      "text/html": [
       "\n",
       "    <div>\n",
       "        <style>\n",
       "            /* Turns off some styling */\n",
       "            progress {\n",
       "                /* gets rid of default border in Firefox and Opera. */\n",
       "                border: none;\n",
       "                /* Needs to be in here for Safari polyfill so background images work as expected. */\n",
       "                background-size: auto;\n",
       "            }\n",
       "            .progress-bar-interrupted, .progress-bar-interrupted::-webkit-progress-bar {\n",
       "                background: #F44336;\n",
       "            }\n",
       "        </style>\n",
       "      <progress value='2000' class='' max='2000' style='width:300px; height:20px; vertical-align: middle;'></progress>\n",
       "      100.00% [2000/2000 00:12<00:00 Sampling chain 0, 0 divergences]\n",
       "    </div>\n",
       "    "
      ],
      "text/plain": [
       "<IPython.core.display.HTML object>"
      ]
     },
     "metadata": {},
     "output_type": "display_data"
    },
    {
     "data": {
      "text/html": [
       "\n",
       "    <div>\n",
       "        <style>\n",
       "            /* Turns off some styling */\n",
       "            progress {\n",
       "                /* gets rid of default border in Firefox and Opera. */\n",
       "                border: none;\n",
       "                /* Needs to be in here for Safari polyfill so background images work as expected. */\n",
       "                background-size: auto;\n",
       "            }\n",
       "            .progress-bar-interrupted, .progress-bar-interrupted::-webkit-progress-bar {\n",
       "                background: #F44336;\n",
       "            }\n",
       "        </style>\n",
       "      <progress value='2000' class='' max='2000' style='width:300px; height:20px; vertical-align: middle;'></progress>\n",
       "      100.00% [2000/2000 00:13<00:00 Sampling chain 1, 0 divergences]\n",
       "    </div>\n",
       "    "
      ],
      "text/plain": [
       "<IPython.core.display.HTML object>"
      ]
     },
     "metadata": {},
     "output_type": "display_data"
    },
    {
     "name": "stderr",
     "output_type": "stream",
     "text": [
      "Sampling 2 chains for 1_000 tune and 1_000 draw iterations (2_000 + 2_000 draws total) took 26 seconds.\n",
      "The estimated number of effective samples is smaller than 200 for some parameters.\n"
     ]
    },
    {
     "name": "stdout",
     "output_type": "stream",
     "text": [
      "[[-214.         -214.         -214.         ...  -73.\n",
      "   -71.          -71.        ]\n",
      " [1200.         1200.         1018.         ...  893.\n",
      "   892.          892.        ]\n",
      " [ 735.          735.          503.         ...  832.\n",
      "   831.          832.        ]\n",
      " [ 577.          577.          577.         ...  551.\n",
      "   550.          550.        ]\n",
      " [ 545.39111153  719.25129205  489.16502582 ...  463.58780136\n",
      "   528.11851274  840.3056271 ]\n",
      " [ 190.          190.          190.         ...  119.\n",
      "   120.          118.        ]]\n",
      "[[ 1.00000000e+00  0.00000000e+00  0.00000000e+00  0.00000000e+00\n",
      "   1.00000000e+00  1.00000000e+00 -9.42336621e+02 -4.71000000e+02\n",
      "  -5.30000000e+01 -9.05000000e+02 -2.19000000e+02  4.96000000e+02\n",
      "   2.67542290e+03  4.49706957e+02  3.98680423e+03  6.27059658e+03\n",
      "   5.91302496e+03  8.20145034e+03]]\n",
      "ids: [1.], ids_disc: [0. 0. 0. 1. 1.], mus_cont: [-942.33662057], mus_disc: [-471.  -53. -905. -219.  496.], std_cont [2675.42289734], std_dist [ 449.70695687 3986.804231   6270.5965781  5913.02495784 8201.45034442]\n",
      "uniform -809.4869205052601 -132.51307949473997\n",
      "uniform -161.24244781614473 55.24244781614474\n",
      "uniform -1599.7707186714001 -210.2292813285998\n",
      "posson 219.0\n",
      "uniform -1630.2873310804157 -254.38591005267443\n",
      "posson 496.0\n"
     ]
    },
    {
     "name": "stderr",
     "output_type": "stream",
     "text": [
      "Sequential sampling (2 chains in 1 job)\n",
      "CompoundStep\n",
      ">CompoundStep\n",
      ">>Metropolis: [married]\n",
      ">>Metropolis: [race]\n",
      ">>Metropolis: [educ]\n",
      ">>Metropolis: [sex]\n",
      ">>Metropolis: [age]\n",
      ">>Metropolis: [N]\n",
      ">NUTS: [income]\n"
     ]
    },
    {
     "data": {
      "text/html": [
       "\n",
       "    <div>\n",
       "        <style>\n",
       "            /* Turns off some styling */\n",
       "            progress {\n",
       "                /* gets rid of default border in Firefox and Opera. */\n",
       "                border: none;\n",
       "                /* Needs to be in here for Safari polyfill so background images work as expected. */\n",
       "                background-size: auto;\n",
       "            }\n",
       "            .progress-bar-interrupted, .progress-bar-interrupted::-webkit-progress-bar {\n",
       "                background: #F44336;\n",
       "            }\n",
       "        </style>\n",
       "      <progress value='2000' class='' max='2000' style='width:300px; height:20px; vertical-align: middle;'></progress>\n",
       "      100.00% [2000/2000 00:13<00:00 Sampling chain 0, 0 divergences]\n",
       "    </div>\n",
       "    "
      ],
      "text/plain": [
       "<IPython.core.display.HTML object>"
      ]
     },
     "metadata": {},
     "output_type": "display_data"
    },
    {
     "data": {
      "text/html": [
       "\n",
       "    <div>\n",
       "        <style>\n",
       "            /* Turns off some styling */\n",
       "            progress {\n",
       "                /* gets rid of default border in Firefox and Opera. */\n",
       "                border: none;\n",
       "                /* Needs to be in here for Safari polyfill so background images work as expected. */\n",
       "                background-size: auto;\n",
       "            }\n",
       "            .progress-bar-interrupted, .progress-bar-interrupted::-webkit-progress-bar {\n",
       "                background: #F44336;\n",
       "            }\n",
       "        </style>\n",
       "      <progress value='2000' class='' max='2000' style='width:300px; height:20px; vertical-align: middle;'></progress>\n",
       "      100.00% [2000/2000 00:13<00:00 Sampling chain 1, 0 divergences]\n",
       "    </div>\n",
       "    "
      ],
      "text/plain": [
       "<IPython.core.display.HTML object>"
      ]
     },
     "metadata": {},
     "output_type": "display_data"
    },
    {
     "name": "stderr",
     "output_type": "stream",
     "text": [
      "Sampling 2 chains for 1_000 tune and 1_000 draw iterations (2_000 + 2_000 draws total) took 26 seconds.\n",
      "The estimated number of effective samples is smaller than 200 for some parameters.\n"
     ]
    },
    {
     "name": "stdout",
     "output_type": "stream",
     "text": [
      "[[ -153.          -189.          -211.         ...  -532.\n",
      "   -532.          -532.        ]\n",
      " [   41.            41.            41.         ...   -35.\n",
      "    -36.           -36.        ]\n",
      " [ -544.          -785.          -443.         ...  -868.\n",
      "   -868.          -868.        ]\n",
      " [  232.           232.           232.         ...   205.\n",
      "    206.           207.        ]\n",
      " [-1060.11583457  -609.66357406 -1536.71959642 ... -1550.10731292\n",
      "  -1109.07411389  -717.87412157]\n",
      " [  490.           490.           500.         ...   506.\n",
      "    507.           507.        ]]\n",
      "[[ 0.00000000e+00  1.00000000e+00  1.00000000e+00  1.00000000e+00\n",
      "   0.00000000e+00  0.00000000e+00 -3.93396371e+02  7.01000000e+02\n",
      "   5.81000000e+02  2.19000000e+02 -7.57000000e+02 -4.70000000e+02\n",
      "   1.83974233e+03  4.96988289e+03  8.61188994e+03  4.06969036e+03\n",
      "   6.20477142e+03  5.76884387e+03]]\n",
      "ids: [0.], ids_disc: [1. 1. 1. 0. 0.], mus_cont: [-393.39637062], mus_disc: [ 701.  581.  219. -757. -470.], std_cont [1839.74233493], std_dist [4969.88288802 8611.88993818 4069.69035877 6204.77141843 5768.84386755]\n",
      "posson 701.0\n",
      "posson 581.0\n",
      "posson 219.0\n",
      "uniform -1352.6228569887812 -161.37714301121878\n",
      "uniform -871.0361943094924 -68.96380569050763\n"
     ]
    },
    {
     "name": "stderr",
     "output_type": "stream",
     "text": [
      "Sequential sampling (2 chains in 1 job)\n",
      "CompoundStep\n",
      ">CompoundStep\n",
      ">>Metropolis: [married]\n",
      ">>Metropolis: [race]\n",
      ">>Metropolis: [educ]\n",
      ">>Metropolis: [sex]\n",
      ">>Metropolis: [age]\n",
      ">>Metropolis: [N]\n",
      ">NUTS: [income]\n"
     ]
    },
    {
     "data": {
      "text/html": [
       "\n",
       "    <div>\n",
       "        <style>\n",
       "            /* Turns off some styling */\n",
       "            progress {\n",
       "                /* gets rid of default border in Firefox and Opera. */\n",
       "                border: none;\n",
       "                /* Needs to be in here for Safari polyfill so background images work as expected. */\n",
       "                background-size: auto;\n",
       "            }\n",
       "            .progress-bar-interrupted, .progress-bar-interrupted::-webkit-progress-bar {\n",
       "                background: #F44336;\n",
       "            }\n",
       "        </style>\n",
       "      <progress value='2000' class='' max='2000' style='width:300px; height:20px; vertical-align: middle;'></progress>\n",
       "      100.00% [2000/2000 00:12<00:00 Sampling chain 0, 0 divergences]\n",
       "    </div>\n",
       "    "
      ],
      "text/plain": [
       "<IPython.core.display.HTML object>"
      ]
     },
     "metadata": {},
     "output_type": "display_data"
    },
    {
     "data": {
      "text/html": [
       "\n",
       "    <div>\n",
       "        <style>\n",
       "            /* Turns off some styling */\n",
       "            progress {\n",
       "                /* gets rid of default border in Firefox and Opera. */\n",
       "                border: none;\n",
       "                /* Needs to be in here for Safari polyfill so background images work as expected. */\n",
       "                background-size: auto;\n",
       "            }\n",
       "            .progress-bar-interrupted, .progress-bar-interrupted::-webkit-progress-bar {\n",
       "                background: #F44336;\n",
       "            }\n",
       "        </style>\n",
       "      <progress value='2000' class='' max='2000' style='width:300px; height:20px; vertical-align: middle;'></progress>\n",
       "      100.00% [2000/2000 00:12<00:00 Sampling chain 1, 0 divergences]\n",
       "    </div>\n",
       "    "
      ],
      "text/plain": [
       "<IPython.core.display.HTML object>"
      ]
     },
     "metadata": {},
     "output_type": "display_data"
    },
    {
     "name": "stderr",
     "output_type": "stream",
     "text": [
      "Sampling 2 chains for 1_000 tune and 1_000 draw iterations (2_000 + 2_000 draws total) took 25 seconds.\n",
      "The estimated number of effective samples is smaller than 200 for some parameters.\n"
     ]
    },
    {
     "name": "stdout",
     "output_type": "stream",
     "text": [
      "[[  671.           665.           665.         ...   712.\n",
      "    712.           712.        ]\n",
      " [  611.           611.           611.         ...   570.\n",
      "    570.           571.        ]\n",
      " [  203.           204.           201.         ...   227.\n",
      "    227.           228.        ]\n",
      " [ -992.          -992.          -992.         ...  -747.\n",
      "   -747.          -747.        ]\n",
      " [ -328.44733747   325.71207114   724.33195767 ... -2930.92149086\n",
      "   1875.44932883 -2673.30855365]\n",
      " [ -723.          -723.          -739.         ...  -433.\n",
      "   -433.          -431.        ]]\n",
      "[[ 3.00000000e+00  0.00000000e+00  1.00000000e+00  1.00000000e+00\n",
      "   0.00000000e+00  0.00000000e+00 -5.21784849e+02 -8.14000000e+02\n",
      "   6.18000000e+02 -6.33000000e+02 -8.47000000e+02  7.52000000e+02\n",
      "   3.68147525e+03  4.60455552e+03  3.87818924e+03  9.54838036e+03\n",
      "   8.58063996e+03  8.72523168e+02]]\n",
      "ids: [3.], ids_disc: [0. 1. 1. 0. 0.], mus_cont: [-521.78484864], mus_disc: [-814.  618. -633. -847.  752.], std_cont [3681.47524512], std_dist [4604.55552353 3878.18924008 9548.38036498 8580.63996441  872.52316816]\n",
      "uniform -1435.021037091745 -192.97896290825489\n",
      "posson 618.0\n",
      "posson 633.0\n",
      "uniform -1518.6285911345935 -175.37140886540635\n",
      "gamma -521.7848486379029 3681.4752451171134\n",
      "uniform 284.77479215334074 1219.2252078466593\n"
     ]
    },
    {
     "ename": "SamplingError",
     "evalue": "Initial evaluation of model at starting point failed!\nStarting values:\n{'N': array(10), 'age': array([-814, -814, -814, -814, -814, -814, -814, -814, -814, -814]), 'sex': array([618, 618, 618, 618, 618, 618, 618, 618, 618, 618]), 'educ': array([633, 633, 633, 633, 633, 633, 633, 633, 633, 633]), 'race': array([-847, -847, -847, -847, -847, -847, -847, -847, -847, -847]), 'income_log__': array([nan, nan, nan, nan, nan, nan, nan, nan, nan, nan]), 'married': array([751, 751, 751, 751, 751, 751, 751, 751, 751, 751])}\n\nInitial evaluation results:\nN                0.00\nage            -71.26\nsex            -41.32\neduc           -41.44\nrace           -72.03\nincome_log__      NaN\nmarried        -68.42\nName: Log-probability of test_point, dtype: float64",
     "output_type": "error",
     "traceback": [
      "\u001b[0;31m---------------------------------------------------------------------------\u001b[0m",
      "\u001b[0;31mSamplingError\u001b[0m                             Traceback (most recent call last)",
      "\u001b[0;32m<ipython-input-140-81642a1a6c48>\u001b[0m in \u001b[0;36m<module>\u001b[0;34m\u001b[0m\n\u001b[1;32m     11\u001b[0m ]\n\u001b[1;32m     12\u001b[0m \u001b[0mBopt\u001b[0m \u001b[0;34m=\u001b[0m \u001b[0mBayesianOptimization\u001b[0m\u001b[0;34m(\u001b[0m\u001b[0mf\u001b[0m\u001b[0;34m=\u001b[0m\u001b[0manalyse\u001b[0m\u001b[0;34m,\u001b[0m \u001b[0mdomain\u001b[0m\u001b[0;34m=\u001b[0m\u001b[0mdomain\u001b[0m\u001b[0;34m)\u001b[0m\u001b[0;34m\u001b[0m\u001b[0;34m\u001b[0m\u001b[0m\n\u001b[0;32m---> 13\u001b[0;31m \u001b[0mBopt\u001b[0m\u001b[0;34m.\u001b[0m\u001b[0mrun_optimization\u001b[0m\u001b[0;34m(\u001b[0m\u001b[0mmax_iter\u001b[0m \u001b[0;34m=\u001b[0m \u001b[0;36m2\u001b[0m\u001b[0;34m,\u001b[0m\u001b[0meps\u001b[0m\u001b[0;34m=\u001b[0m\u001b[0;36m1e-6\u001b[0m\u001b[0;34m)\u001b[0m\u001b[0;34m\u001b[0m\u001b[0;34m\u001b[0m\u001b[0m\n\u001b[0m\u001b[1;32m     14\u001b[0m \u001b[0mprint\u001b[0m\u001b[0;34m(\u001b[0m\u001b[0;34m\"=\"\u001b[0m\u001b[0;34m*\u001b[0m\u001b[0;36m20\u001b[0m\u001b[0;34m)\u001b[0m\u001b[0;34m\u001b[0m\u001b[0;34m\u001b[0m\u001b[0m\n\u001b[1;32m     15\u001b[0m \u001b[0mprint\u001b[0m\u001b[0;34m(\u001b[0m\u001b[0;34m\"Value of (x,y) that minimises the objective:\"\u001b[0m\u001b[0;34m+\u001b[0m\u001b[0mstr\u001b[0m\u001b[0;34m(\u001b[0m\u001b[0mBopt\u001b[0m\u001b[0;34m.\u001b[0m\u001b[0mx_opt\u001b[0m\u001b[0;34m)\u001b[0m\u001b[0;34m)\u001b[0m\u001b[0;34m\u001b[0m\u001b[0;34m\u001b[0m\u001b[0m\n",
      "\u001b[0;32m~/opt/anaconda3/envs/dev_fix/lib/python3.7/site-packages/GPyOpt/core/bo.py\u001b[0m in \u001b[0;36mrun_optimization\u001b[0;34m(self, max_iter, max_time, eps, context, verbosity, save_models_parameters, report_file, evaluations_file, models_file)\u001b[0m\n\u001b[1;32m    149\u001b[0m \u001b[0;34m\u001b[0m\u001b[0m\n\u001b[1;32m    150\u001b[0m             \u001b[0;31m# --- Evaluate *f* in X, augment Y and update cost function (if needed)\u001b[0m\u001b[0;34m\u001b[0m\u001b[0;34m\u001b[0m\u001b[0;34m\u001b[0m\u001b[0m\n\u001b[0;32m--> 151\u001b[0;31m             \u001b[0mself\u001b[0m\u001b[0;34m.\u001b[0m\u001b[0mevaluate_objective\u001b[0m\u001b[0;34m(\u001b[0m\u001b[0;34m)\u001b[0m\u001b[0;34m\u001b[0m\u001b[0;34m\u001b[0m\u001b[0m\n\u001b[0m\u001b[1;32m    152\u001b[0m \u001b[0;34m\u001b[0m\u001b[0m\n\u001b[1;32m    153\u001b[0m             \u001b[0;31m# --- Update current evaluation time and function evaluations\u001b[0m\u001b[0;34m\u001b[0m\u001b[0;34m\u001b[0m\u001b[0;34m\u001b[0m\u001b[0m\n",
      "\u001b[0;32m~/opt/anaconda3/envs/dev_fix/lib/python3.7/site-packages/GPyOpt/core/bo.py\u001b[0m in \u001b[0;36mevaluate_objective\u001b[0;34m(self)\u001b[0m\n\u001b[1;32m    195\u001b[0m         \u001b[0mEvaluates\u001b[0m \u001b[0mthe\u001b[0m \u001b[0mobjective\u001b[0m\u001b[0;34m\u001b[0m\u001b[0;34m\u001b[0m\u001b[0m\n\u001b[1;32m    196\u001b[0m         \"\"\"\n\u001b[0;32m--> 197\u001b[0;31m         \u001b[0mself\u001b[0m\u001b[0;34m.\u001b[0m\u001b[0mY_new\u001b[0m\u001b[0;34m,\u001b[0m \u001b[0mcost_new\u001b[0m \u001b[0;34m=\u001b[0m \u001b[0mself\u001b[0m\u001b[0;34m.\u001b[0m\u001b[0mobjective\u001b[0m\u001b[0;34m.\u001b[0m\u001b[0mevaluate\u001b[0m\u001b[0;34m(\u001b[0m\u001b[0mself\u001b[0m\u001b[0;34m.\u001b[0m\u001b[0msuggested_sample\u001b[0m\u001b[0;34m)\u001b[0m\u001b[0;34m\u001b[0m\u001b[0;34m\u001b[0m\u001b[0m\n\u001b[0m\u001b[1;32m    198\u001b[0m         \u001b[0mself\u001b[0m\u001b[0;34m.\u001b[0m\u001b[0mcost\u001b[0m\u001b[0;34m.\u001b[0m\u001b[0mupdate_cost_model\u001b[0m\u001b[0;34m(\u001b[0m\u001b[0mself\u001b[0m\u001b[0;34m.\u001b[0m\u001b[0msuggested_sample\u001b[0m\u001b[0;34m,\u001b[0m \u001b[0mcost_new\u001b[0m\u001b[0;34m)\u001b[0m\u001b[0;34m\u001b[0m\u001b[0;34m\u001b[0m\u001b[0m\n\u001b[1;32m    199\u001b[0m         \u001b[0mself\u001b[0m\u001b[0;34m.\u001b[0m\u001b[0mY\u001b[0m \u001b[0;34m=\u001b[0m \u001b[0mnp\u001b[0m\u001b[0;34m.\u001b[0m\u001b[0mvstack\u001b[0m\u001b[0;34m(\u001b[0m\u001b[0;34m(\u001b[0m\u001b[0mself\u001b[0m\u001b[0;34m.\u001b[0m\u001b[0mY\u001b[0m\u001b[0;34m,\u001b[0m\u001b[0mself\u001b[0m\u001b[0;34m.\u001b[0m\u001b[0mY_new\u001b[0m\u001b[0;34m)\u001b[0m\u001b[0;34m)\u001b[0m\u001b[0;34m\u001b[0m\u001b[0;34m\u001b[0m\u001b[0m\n",
      "\u001b[0;32m~/opt/anaconda3/envs/dev_fix/lib/python3.7/site-packages/GPyOpt/core/task/objective.py\u001b[0m in \u001b[0;36mevaluate\u001b[0;34m(self, x)\u001b[0m\n\u001b[1;32m     48\u001b[0m \u001b[0;34m\u001b[0m\u001b[0m\n\u001b[1;32m     49\u001b[0m         \u001b[0;32mif\u001b[0m \u001b[0mself\u001b[0m\u001b[0;34m.\u001b[0m\u001b[0mn_procs\u001b[0m \u001b[0;34m==\u001b[0m \u001b[0;36m1\u001b[0m\u001b[0;34m:\u001b[0m\u001b[0;34m\u001b[0m\u001b[0;34m\u001b[0m\u001b[0m\n\u001b[0;32m---> 50\u001b[0;31m             \u001b[0mf_evals\u001b[0m\u001b[0;34m,\u001b[0m \u001b[0mcost_evals\u001b[0m \u001b[0;34m=\u001b[0m \u001b[0mself\u001b[0m\u001b[0;34m.\u001b[0m\u001b[0m_eval_func\u001b[0m\u001b[0;34m(\u001b[0m\u001b[0mx\u001b[0m\u001b[0;34m)\u001b[0m\u001b[0;34m\u001b[0m\u001b[0;34m\u001b[0m\u001b[0m\n\u001b[0m\u001b[1;32m     51\u001b[0m         \u001b[0;32melse\u001b[0m\u001b[0;34m:\u001b[0m\u001b[0;34m\u001b[0m\u001b[0;34m\u001b[0m\u001b[0m\n\u001b[1;32m     52\u001b[0m             \u001b[0;32mtry\u001b[0m\u001b[0;34m:\u001b[0m\u001b[0;34m\u001b[0m\u001b[0;34m\u001b[0m\u001b[0m\n",
      "\u001b[0;32m~/opt/anaconda3/envs/dev_fix/lib/python3.7/site-packages/GPyOpt/core/task/objective.py\u001b[0m in \u001b[0;36m_eval_func\u001b[0;34m(self, x)\u001b[0m\n\u001b[1;32m     72\u001b[0m         \u001b[0;32mfor\u001b[0m \u001b[0mi\u001b[0m \u001b[0;32min\u001b[0m \u001b[0mrange\u001b[0m\u001b[0;34m(\u001b[0m\u001b[0mx\u001b[0m\u001b[0;34m.\u001b[0m\u001b[0mshape\u001b[0m\u001b[0;34m[\u001b[0m\u001b[0;36m0\u001b[0m\u001b[0;34m]\u001b[0m\u001b[0;34m)\u001b[0m\u001b[0;34m:\u001b[0m\u001b[0;34m\u001b[0m\u001b[0;34m\u001b[0m\u001b[0m\n\u001b[1;32m     73\u001b[0m             \u001b[0mst_time\u001b[0m    \u001b[0;34m=\u001b[0m \u001b[0mtime\u001b[0m\u001b[0;34m.\u001b[0m\u001b[0mtime\u001b[0m\u001b[0;34m(\u001b[0m\u001b[0;34m)\u001b[0m\u001b[0;34m\u001b[0m\u001b[0;34m\u001b[0m\u001b[0m\n\u001b[0;32m---> 74\u001b[0;31m             \u001b[0mrlt\u001b[0m \u001b[0;34m=\u001b[0m \u001b[0mself\u001b[0m\u001b[0;34m.\u001b[0m\u001b[0mfunc\u001b[0m\u001b[0;34m(\u001b[0m\u001b[0mnp\u001b[0m\u001b[0;34m.\u001b[0m\u001b[0matleast_2d\u001b[0m\u001b[0;34m(\u001b[0m\u001b[0mx\u001b[0m\u001b[0;34m[\u001b[0m\u001b[0mi\u001b[0m\u001b[0;34m]\u001b[0m\u001b[0;34m)\u001b[0m\u001b[0;34m)\u001b[0m\u001b[0;34m\u001b[0m\u001b[0;34m\u001b[0m\u001b[0m\n\u001b[0m\u001b[1;32m     75\u001b[0m             \u001b[0mf_evals\u001b[0m     \u001b[0;34m=\u001b[0m \u001b[0mnp\u001b[0m\u001b[0;34m.\u001b[0m\u001b[0mvstack\u001b[0m\u001b[0;34m(\u001b[0m\u001b[0;34m[\u001b[0m\u001b[0mf_evals\u001b[0m\u001b[0;34m,\u001b[0m\u001b[0mrlt\u001b[0m\u001b[0;34m]\u001b[0m\u001b[0;34m)\u001b[0m\u001b[0;34m\u001b[0m\u001b[0;34m\u001b[0m\u001b[0m\n\u001b[1;32m     76\u001b[0m             \u001b[0mcost_evals\u001b[0m \u001b[0;34m+=\u001b[0m \u001b[0;34m[\u001b[0m\u001b[0mtime\u001b[0m\u001b[0;34m.\u001b[0m\u001b[0mtime\u001b[0m\u001b[0;34m(\u001b[0m\u001b[0;34m)\u001b[0m\u001b[0;34m-\u001b[0m\u001b[0mst_time\u001b[0m\u001b[0;34m]\u001b[0m\u001b[0;34m\u001b[0m\u001b[0;34m\u001b[0m\u001b[0m\n",
      "\u001b[0;32m<ipython-input-139-2b3a6887c1ad>\u001b[0m in \u001b[0;36manalyse\u001b[0;34m(X)\u001b[0m\n\u001b[1;32m     29\u001b[0m \u001b[0;34m\u001b[0m\u001b[0m\n\u001b[1;32m     30\u001b[0m         \u001b[0mout\u001b[0m \u001b[0;34m=\u001b[0m \u001b[0mpm\u001b[0m\u001b[0;34m.\u001b[0m\u001b[0mDeterministic\u001b[0m\u001b[0;34m(\u001b[0m\u001b[0;34m\"out\"\u001b[0m\u001b[0;34m,\u001b[0m \u001b[0mf\u001b[0m\u001b[0;34m(\u001b[0m\u001b[0mage_dist\u001b[0m\u001b[0;34m,\u001b[0m \u001b[0msex_dist\u001b[0m\u001b[0;34m,\u001b[0m \u001b[0meduc_dist\u001b[0m\u001b[0;34m,\u001b[0m \u001b[0mrace_dist\u001b[0m\u001b[0;34m,\u001b[0m \u001b[0mincome_dist\u001b[0m\u001b[0;34m,\u001b[0m \u001b[0mmarried_dist\u001b[0m\u001b[0;34m,\u001b[0m \u001b[0mN_rv\u001b[0m\u001b[0;34m)\u001b[0m\u001b[0;34m)\u001b[0m\u001b[0;34m\u001b[0m\u001b[0;34m\u001b[0m\u001b[0m\n\u001b[0;32m---> 31\u001b[0;31m         \u001b[0mtrace\u001b[0m \u001b[0;34m=\u001b[0m \u001b[0mpm\u001b[0m\u001b[0;34m.\u001b[0m\u001b[0msample\u001b[0m\u001b[0;34m(\u001b[0m\u001b[0;36m1000\u001b[0m\u001b[0;34m,\u001b[0m \u001b[0mreturn_inferencedata\u001b[0m\u001b[0;34m=\u001b[0m\u001b[0;32mFalse\u001b[0m\u001b[0;34m,\u001b[0m \u001b[0mcores\u001b[0m\u001b[0;34m=\u001b[0m\u001b[0;36m1\u001b[0m\u001b[0;34m)\u001b[0m\u001b[0;34m\u001b[0m\u001b[0;34m\u001b[0m\u001b[0m\n\u001b[0m\u001b[1;32m     32\u001b[0m \u001b[0;34m\u001b[0m\u001b[0m\n\u001b[1;32m     33\u001b[0m         \u001b[0mnames\u001b[0m \u001b[0;34m=\u001b[0m \u001b[0;34m[\u001b[0m\u001b[0;34m\"age\"\u001b[0m\u001b[0;34m,\u001b[0m \u001b[0;34m\"sex\"\u001b[0m\u001b[0;34m,\u001b[0m \u001b[0;34m\"educ\"\u001b[0m\u001b[0;34m,\u001b[0m \u001b[0;34m\"race\"\u001b[0m\u001b[0;34m,\u001b[0m \u001b[0;34m\"income\"\u001b[0m\u001b[0;34m,\u001b[0m \u001b[0;34m\"married\"\u001b[0m\u001b[0;34m]\u001b[0m\u001b[0;34m\u001b[0m\u001b[0;34m\u001b[0m\u001b[0m\n",
      "\u001b[0;32m~/opt/anaconda3/envs/dev_fix/lib/python3.7/site-packages/pymc3/sampling.py\u001b[0m in \u001b[0;36msample\u001b[0;34m(draws, step, init, n_init, start, trace, chain_idx, chains, cores, tune, progressbar, model, random_seed, discard_tuned_samples, compute_convergence_checks, callback, jitter_max_retries, return_inferencedata, idata_kwargs, mp_ctx, pickle_backend, **kwargs)\u001b[0m\n\u001b[1;32m    426\u001b[0m     \u001b[0mstart\u001b[0m \u001b[0;34m=\u001b[0m \u001b[0mdeepcopy\u001b[0m\u001b[0;34m(\u001b[0m\u001b[0mstart\u001b[0m\u001b[0;34m)\u001b[0m\u001b[0;34m\u001b[0m\u001b[0;34m\u001b[0m\u001b[0m\n\u001b[1;32m    427\u001b[0m     \u001b[0;32mif\u001b[0m \u001b[0mstart\u001b[0m \u001b[0;32mis\u001b[0m \u001b[0;32mNone\u001b[0m\u001b[0;34m:\u001b[0m\u001b[0;34m\u001b[0m\u001b[0;34m\u001b[0m\u001b[0m\n\u001b[0;32m--> 428\u001b[0;31m         \u001b[0mcheck_start_vals\u001b[0m\u001b[0;34m(\u001b[0m\u001b[0mmodel\u001b[0m\u001b[0;34m.\u001b[0m\u001b[0mtest_point\u001b[0m\u001b[0;34m,\u001b[0m \u001b[0mmodel\u001b[0m\u001b[0;34m)\u001b[0m\u001b[0;34m\u001b[0m\u001b[0;34m\u001b[0m\u001b[0m\n\u001b[0m\u001b[1;32m    429\u001b[0m     \u001b[0;32melse\u001b[0m\u001b[0;34m:\u001b[0m\u001b[0;34m\u001b[0m\u001b[0;34m\u001b[0m\u001b[0m\n\u001b[1;32m    430\u001b[0m         \u001b[0;32mif\u001b[0m \u001b[0misinstance\u001b[0m\u001b[0;34m(\u001b[0m\u001b[0mstart\u001b[0m\u001b[0;34m,\u001b[0m \u001b[0mdict\u001b[0m\u001b[0;34m)\u001b[0m\u001b[0;34m:\u001b[0m\u001b[0;34m\u001b[0m\u001b[0;34m\u001b[0m\u001b[0m\n",
      "\u001b[0;32m~/opt/anaconda3/envs/dev_fix/lib/python3.7/site-packages/pymc3/util.py\u001b[0m in \u001b[0;36mcheck_start_vals\u001b[0;34m(start, model)\u001b[0m\n\u001b[1;32m    236\u001b[0m                 \u001b[0;34m\"Initial evaluation of model at starting point failed!\\n\"\u001b[0m\u001b[0;34m\u001b[0m\u001b[0;34m\u001b[0m\u001b[0m\n\u001b[1;32m    237\u001b[0m                 \u001b[0;34m\"Starting values:\\n{}\\n\\n\"\u001b[0m\u001b[0;34m\u001b[0m\u001b[0;34m\u001b[0m\u001b[0m\n\u001b[0;32m--> 238\u001b[0;31m                 \u001b[0;34m\"Initial evaluation results:\\n{}\"\u001b[0m\u001b[0;34m.\u001b[0m\u001b[0mformat\u001b[0m\u001b[0;34m(\u001b[0m\u001b[0melem\u001b[0m\u001b[0;34m,\u001b[0m \u001b[0mstr\u001b[0m\u001b[0;34m(\u001b[0m\u001b[0minitial_eval\u001b[0m\u001b[0;34m)\u001b[0m\u001b[0;34m)\u001b[0m\u001b[0;34m\u001b[0m\u001b[0;34m\u001b[0m\u001b[0m\n\u001b[0m\u001b[1;32m    239\u001b[0m             )\n\u001b[1;32m    240\u001b[0m \u001b[0;34m\u001b[0m\u001b[0m\n",
      "\u001b[0;31mSamplingError\u001b[0m: Initial evaluation of model at starting point failed!\nStarting values:\n{'N': array(10), 'age': array([-814, -814, -814, -814, -814, -814, -814, -814, -814, -814]), 'sex': array([618, 618, 618, 618, 618, 618, 618, 618, 618, 618]), 'educ': array([633, 633, 633, 633, 633, 633, 633, 633, 633, 633]), 'race': array([-847, -847, -847, -847, -847, -847, -847, -847, -847, -847]), 'income_log__': array([nan, nan, nan, nan, nan, nan, nan, nan, nan, nan]), 'married': array([751, 751, 751, 751, 751, 751, 751, 751, 751, 751])}\n\nInitial evaluation results:\nN                0.00\nage            -71.26\nsex            -41.32\neduc           -41.44\nrace           -72.03\nincome_log__      NaN\nmarried        -68.42\nName: Log-probability of test_point, dtype: float64"
     ]
    }
   ],
   "source": [
    "number_of_cont_rv = 1\n",
    "number_of_disc_rv = 5\n",
    "\n",
    "domain = [\n",
    "    {\"name\": \"ids_continuous\", \"type\": \"discrete\", \"domain\": (0,1,2,3), \"dimensionality\": number_of_cont_rv},\n",
    "    {\"name\": \"ids_continuous\", \"type\": \"discrete\", \"domain\": (0,1), \"dimensionality\": number_of_disc_rv},\n",
    "    {\"name\": \"mus_cont\", \"type\": \"continuous\", \"domain\": (-1000,1000), \"dimensionality\": number_of_cont_rv},\n",
    "    {\"name\": \"mus_disc\", \"type\": \"discrete\", \"domain\": tuple(range(-1000,1000)), \"dimensionality\": number_of_disc_rv},\n",
    "    {\"name\": \"std_cont\", \"type\": \"continuous\", \"domain\": (1e-3, 10_000), \"dimensionality\": number_of_cont_rv},\n",
    "    {\"name\": \"std_disc\", \"type\": \"continuous\", \"domain\": (1e-3, 10_000), \"dimensionality\": number_of_disc_rv}\n",
    "]\n",
    "Bopt = BayesianOptimization(f=analyse, domain=domain)\n",
    "Bopt.run_optimization(max_iter = 2,eps=1e-6)\n",
    "print(\"=\"*20)\n",
    "print(\"Value of (x,y) that minimises the objective:\"+str(Bopt.x_opt))    \n",
    "print(\"Minimum value of the objective: \"+str(Bopt.fx_opt))     \n",
    "print(\"=\"*20)\n",
    "Bopt.plot_convergence()"
   ]
  },
  {
   "cell_type": "code",
   "execution_count": 125,
   "id": "weighted-october",
   "metadata": {},
   "outputs": [
    {
     "data": {
      "text/plain": [
       "0.001"
      ]
     },
     "execution_count": 125,
     "metadata": {},
     "output_type": "execute_result"
    }
   ],
   "source": [
    "1e-3"
   ]
  },
  {
   "cell_type": "code",
   "execution_count": 71,
   "id": "maritime-methodology",
   "metadata": {},
   "outputs": [
    {
     "ename": "TypeError",
     "evalue": "__init__() got an unexpected keyword argument 'mu'",
     "output_type": "error",
     "traceback": [
      "\u001b[0;31m---------------------------------------------------------------------------\u001b[0m",
      "\u001b[0;31mTypeError\u001b[0m                                 Traceback (most recent call last)",
      "\u001b[0;32m<ipython-input-71-f868c942eac1>\u001b[0m in \u001b[0;36m<module>\u001b[0;34m\u001b[0m\n\u001b[0;32m----> 1\u001b[0;31m \u001b[0mpm\u001b[0m\u001b[0;34m.\u001b[0m\u001b[0mUniform\u001b[0m\u001b[0;34m.\u001b[0m\u001b[0mdist\u001b[0m\u001b[0;34m(\u001b[0m\u001b[0mmu\u001b[0m\u001b[0;34m=\u001b[0m\u001b[0;36m10\u001b[0m\u001b[0;34m,\u001b[0m\u001b[0mstd\u001b[0m\u001b[0;34m=\u001b[0m\u001b[0;36m100\u001b[0m\u001b[0;34m)\u001b[0m\u001b[0;34m\u001b[0m\u001b[0;34m\u001b[0m\u001b[0m\n\u001b[0m",
      "\u001b[0;32m~/opt/anaconda3/envs/dev_fix/lib/python3.7/site-packages/pymc3/distributions/distribution.py\u001b[0m in \u001b[0;36mdist\u001b[0;34m(cls, *args, **kwargs)\u001b[0m\n\u001b[1;32m    128\u001b[0m     \u001b[0;32mdef\u001b[0m \u001b[0mdist\u001b[0m\u001b[0;34m(\u001b[0m\u001b[0mcls\u001b[0m\u001b[0;34m,\u001b[0m \u001b[0;34m*\u001b[0m\u001b[0margs\u001b[0m\u001b[0;34m,\u001b[0m \u001b[0;34m**\u001b[0m\u001b[0mkwargs\u001b[0m\u001b[0;34m)\u001b[0m\u001b[0;34m:\u001b[0m\u001b[0;34m\u001b[0m\u001b[0;34m\u001b[0m\u001b[0m\n\u001b[1;32m    129\u001b[0m         \u001b[0mdist\u001b[0m \u001b[0;34m=\u001b[0m \u001b[0mobject\u001b[0m\u001b[0;34m.\u001b[0m\u001b[0m__new__\u001b[0m\u001b[0;34m(\u001b[0m\u001b[0mcls\u001b[0m\u001b[0;34m)\u001b[0m\u001b[0;34m\u001b[0m\u001b[0;34m\u001b[0m\u001b[0m\n\u001b[0;32m--> 130\u001b[0;31m         \u001b[0mdist\u001b[0m\u001b[0;34m.\u001b[0m\u001b[0m__init__\u001b[0m\u001b[0;34m(\u001b[0m\u001b[0;34m*\u001b[0m\u001b[0margs\u001b[0m\u001b[0;34m,\u001b[0m \u001b[0;34m**\u001b[0m\u001b[0mkwargs\u001b[0m\u001b[0;34m)\u001b[0m\u001b[0;34m\u001b[0m\u001b[0;34m\u001b[0m\u001b[0m\n\u001b[0m\u001b[1;32m    131\u001b[0m         \u001b[0;32mreturn\u001b[0m \u001b[0mdist\u001b[0m\u001b[0;34m\u001b[0m\u001b[0;34m\u001b[0m\u001b[0m\n\u001b[1;32m    132\u001b[0m \u001b[0;34m\u001b[0m\u001b[0m\n",
      "\u001b[0;32m~/opt/anaconda3/envs/dev_fix/lib/python3.7/site-packages/pymc3/distributions/continuous.py\u001b[0m in \u001b[0;36m__init__\u001b[0;34m(self, lower, upper, *args, **kwargs)\u001b[0m\n\u001b[1;32m    229\u001b[0m         \u001b[0mself\u001b[0m\u001b[0;34m.\u001b[0m\u001b[0mmedian\u001b[0m \u001b[0;34m=\u001b[0m \u001b[0mself\u001b[0m\u001b[0;34m.\u001b[0m\u001b[0mmean\u001b[0m\u001b[0;34m\u001b[0m\u001b[0;34m\u001b[0m\u001b[0m\n\u001b[1;32m    230\u001b[0m \u001b[0;34m\u001b[0m\u001b[0m\n\u001b[0;32m--> 231\u001b[0;31m         \u001b[0msuper\u001b[0m\u001b[0;34m(\u001b[0m\u001b[0;34m)\u001b[0m\u001b[0;34m.\u001b[0m\u001b[0m__init__\u001b[0m\u001b[0;34m(\u001b[0m\u001b[0mlower\u001b[0m\u001b[0;34m=\u001b[0m\u001b[0mlower\u001b[0m\u001b[0;34m,\u001b[0m \u001b[0mupper\u001b[0m\u001b[0;34m=\u001b[0m\u001b[0mupper\u001b[0m\u001b[0;34m,\u001b[0m \u001b[0;34m*\u001b[0m\u001b[0margs\u001b[0m\u001b[0;34m,\u001b[0m \u001b[0;34m**\u001b[0m\u001b[0mkwargs\u001b[0m\u001b[0;34m)\u001b[0m\u001b[0;34m\u001b[0m\u001b[0;34m\u001b[0m\u001b[0m\n\u001b[0m\u001b[1;32m    232\u001b[0m \u001b[0;34m\u001b[0m\u001b[0m\n\u001b[1;32m    233\u001b[0m     \u001b[0;32mdef\u001b[0m \u001b[0mrandom\u001b[0m\u001b[0;34m(\u001b[0m\u001b[0mself\u001b[0m\u001b[0;34m,\u001b[0m \u001b[0mpoint\u001b[0m\u001b[0;34m=\u001b[0m\u001b[0;32mNone\u001b[0m\u001b[0;34m,\u001b[0m \u001b[0msize\u001b[0m\u001b[0;34m=\u001b[0m\u001b[0;32mNone\u001b[0m\u001b[0;34m)\u001b[0m\u001b[0;34m:\u001b[0m\u001b[0;34m\u001b[0m\u001b[0;34m\u001b[0m\u001b[0m\n",
      "\u001b[0;32m~/opt/anaconda3/envs/dev_fix/lib/python3.7/site-packages/pymc3/distributions/continuous.py\u001b[0m in \u001b[0;36m__init__\u001b[0;34m(self, transform, lower, upper, *args, **kwargs)\u001b[0m\n\u001b[1;32m    115\u001b[0m                 \u001b[0mtransform\u001b[0m \u001b[0;34m=\u001b[0m \u001b[0mtransforms\u001b[0m\u001b[0;34m.\u001b[0m\u001b[0minterval\u001b[0m\u001b[0;34m(\u001b[0m\u001b[0mlower\u001b[0m\u001b[0;34m,\u001b[0m \u001b[0mupper\u001b[0m\u001b[0;34m)\u001b[0m\u001b[0;34m\u001b[0m\u001b[0;34m\u001b[0m\u001b[0m\n\u001b[1;32m    116\u001b[0m \u001b[0;34m\u001b[0m\u001b[0m\n\u001b[0;32m--> 117\u001b[0;31m         \u001b[0msuper\u001b[0m\u001b[0;34m(\u001b[0m\u001b[0;34m)\u001b[0m\u001b[0;34m.\u001b[0m\u001b[0m__init__\u001b[0m\u001b[0;34m(\u001b[0m\u001b[0mtransform\u001b[0m\u001b[0;34m=\u001b[0m\u001b[0mtransform\u001b[0m\u001b[0;34m,\u001b[0m \u001b[0;34m*\u001b[0m\u001b[0margs\u001b[0m\u001b[0;34m,\u001b[0m \u001b[0;34m**\u001b[0m\u001b[0mkwargs\u001b[0m\u001b[0;34m)\u001b[0m\u001b[0;34m\u001b[0m\u001b[0;34m\u001b[0m\u001b[0m\n\u001b[0m\u001b[1;32m    118\u001b[0m \u001b[0;34m\u001b[0m\u001b[0m\n\u001b[1;32m    119\u001b[0m \u001b[0;34m\u001b[0m\u001b[0m\n",
      "\u001b[0;32m~/opt/anaconda3/envs/dev_fix/lib/python3.7/site-packages/pymc3/distributions/distribution.py\u001b[0m in \u001b[0;36m__init__\u001b[0;34m(self, shape, dtype, defaults, *args, **kwargs)\u001b[0m\n\u001b[1;32m    342\u001b[0m         \u001b[0;32mif\u001b[0m \u001b[0mdtype\u001b[0m \u001b[0;32mis\u001b[0m \u001b[0;32mNone\u001b[0m\u001b[0;34m:\u001b[0m\u001b[0;34m\u001b[0m\u001b[0;34m\u001b[0m\u001b[0m\n\u001b[1;32m    343\u001b[0m             \u001b[0mdtype\u001b[0m \u001b[0;34m=\u001b[0m \u001b[0mtheano\u001b[0m\u001b[0;34m.\u001b[0m\u001b[0mconfig\u001b[0m\u001b[0;34m.\u001b[0m\u001b[0mfloatX\u001b[0m\u001b[0;34m\u001b[0m\u001b[0;34m\u001b[0m\u001b[0m\n\u001b[0;32m--> 344\u001b[0;31m         \u001b[0msuper\u001b[0m\u001b[0;34m(\u001b[0m\u001b[0;34m)\u001b[0m\u001b[0;34m.\u001b[0m\u001b[0m__init__\u001b[0m\u001b[0;34m(\u001b[0m\u001b[0mshape\u001b[0m\u001b[0;34m,\u001b[0m \u001b[0mdtype\u001b[0m\u001b[0;34m,\u001b[0m \u001b[0mdefaults\u001b[0m\u001b[0;34m=\u001b[0m\u001b[0mdefaults\u001b[0m\u001b[0;34m,\u001b[0m \u001b[0;34m*\u001b[0m\u001b[0margs\u001b[0m\u001b[0;34m,\u001b[0m \u001b[0;34m**\u001b[0m\u001b[0mkwargs\u001b[0m\u001b[0;34m)\u001b[0m\u001b[0;34m\u001b[0m\u001b[0;34m\u001b[0m\u001b[0m\n\u001b[0m\u001b[1;32m    345\u001b[0m \u001b[0;34m\u001b[0m\u001b[0m\n\u001b[1;32m    346\u001b[0m \u001b[0;34m\u001b[0m\u001b[0m\n",
      "\u001b[0;31mTypeError\u001b[0m: __init__() got an unexpected keyword argument 'mu'"
     ]
    }
   ],
   "source": [
    "pm.Uniform.dist(mu=10,std=100)"
   ]
  },
  {
   "cell_type": "code",
   "execution_count": 135,
   "id": "annoying-crime",
   "metadata": {},
   "outputs": [
    {
     "data": {
      "text/plain": [
       "1"
      ]
     },
     "execution_count": 135,
     "metadata": {},
     "output_type": "execute_result"
    }
   ],
   "source": [
    "abs(-1)"
   ]
  },
  {
   "cell_type": "code",
   "execution_count": null,
   "id": "dress-webcam",
   "metadata": {},
   "outputs": [],
   "source": []
  }
 ],
 "metadata": {
  "kernelspec": {
   "display_name": "Python 3",
   "language": "python",
   "name": "python3"
  },
  "language_info": {
   "codemirror_mode": {
    "name": "ipython",
    "version": 3
   },
   "file_extension": ".py",
   "mimetype": "text/x-python",
   "name": "python",
   "nbconvert_exporter": "python",
   "pygments_lexer": "ipython3",
   "version": "3.7.9"
  }
 },
 "nbformat": 4,
 "nbformat_minor": 5
}
